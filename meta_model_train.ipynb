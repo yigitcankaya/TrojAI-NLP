{
 "cells": [
  {
   "cell_type": "code",
   "execution_count": 1,
   "metadata": {},
   "outputs": [],
   "source": [
    "import pandas\n",
    "import os\n",
    "import numpy as np\n",
    "import torch\n",
    "import gates_models as gm\n",
    "import pickle\n",
    "import utils as ut\n",
    "import seaborn as sns\n",
    "import matplotlib.pyplot as plt\n",
    "\n",
    "from sklearn.linear_model import LogisticRegression\n",
    "from sklearn.calibration import CalibratedClassifierCV\n",
    "from sklearn.model_selection import GridSearchCV\n",
    "from sklearn.metrics import accuracy_score\n",
    "from sklearn.metrics import make_scorer\n",
    "from sklearn.metrics import roc_auc_score\n",
    "from sklearn.ensemble import GradientBoostingClassifier\n",
    "from sklearn.model_selection import train_test_split\n",
    "from sklearn.metrics import pairwise_distances\n",
    "from sklearn.linear_model import LogisticRegression"
   ]
  },
  {
   "cell_type": "code",
   "execution_count": 2,
   "metadata": {},
   "outputs": [],
   "source": [
    "round_suffix = 'r6'\n",
    "subset = 'all'\n",
    "path = f'models_{round_suffix}'\n",
    "main_path = os.path.join(path, 'round6-train-dataset') if round_suffix == 'r6' else os.path.join(path, 'round5-train-dataset')\n",
    "models_path = os.path.join(main_path, 'models')\n",
    "metadata_file = 'METADATA.csv'    \n",
    "device = torch.device('cuda' if torch.cuda.is_available() else 'cpu')\n",
    "df = pandas.read_csv(os.path.join(main_path, metadata_file))\n",
    "torch.backends.cudnn.enabled=False\n",
    "use_amp = False # True if torch.cuda.is_available() else False # attempt to use mixed precision to accelerate embedding conversion process\n",
    "# ut.write_embeddings_on_file(df, main_path, models_path, round_suffix=round_suffix, use_amp=use_amp)"
   ]
  },
  {
   "cell_type": "code",
   "execution_count": null,
   "metadata": {},
   "outputs": [],
   "source": [
    "reg_types = ['sparse']\n",
    "threshold = (0.95, 0.7); gg = 'all'\n",
    "# threshold = (1, 0.7); gg = 'per_sample'\n",
    "\n",
    "for reg_type in reg_types:\n",
    "    print(f'Reg Type: {reg_type}')\n",
    "    cdrp_hgates_all_params = {'threshold':threshold, 'start':0.05, 'iter':50, 'lr':0.1, 'eps':1e-2, 'gate_type':'hidden', 'reg_type':reg_type, 'gate_granularity':gg, 'subset':subset}\n",
    "    hgates_all, hgates_all_accs, hgates_all_gammas, class_indices, model_labels, trigger_targets = gm.apply_cdrp_on_all_models(df, main_path, models_path, cdrp_hgates_all_params, round_suffix, use_amp, device)\n",
    "\n",
    "    cdrp_igates_all_params = {'threshold':threshold, 'start':0.05, 'iter':50, 'lr':0.1, 'eps':1e-2, 'gate_type':'input', 'reg_type':reg_type, 'gate_granularity':gg, 'subset':subset}\n",
    "    igates_all, igates_all_accs, igates_all_gammas, _, _, _ = gm.apply_cdrp_on_all_models(df, main_path, models_path, cdrp_igates_all_params, round_suffix, use_amp, device)\n",
    "\n",
    "    with open(os.path.join(f'data_{round_suffix}', f'{gg}_{reg_type}_data.pickle'), 'wb') as handle:\n",
    "        pickle.dump((hgates_all, hgates_all_accs, hgates_all_gammas, igates_all, igates_all_accs, igates_all_gammas, class_indices, model_labels, trigger_targets), handle, protocol=pickle.HIGHEST_PROTOCOL)"
   ]
  },
  {
   "cell_type": "code",
   "execution_count": 3,
   "metadata": {},
   "outputs": [],
   "source": [
    "gg = 'all'\n",
    "round_suffix = 'r5'\n",
    "\n",
    "with open(os.path.join(f'data_{round_suffix}', f'{gg}_l1_data.pickle'), 'rb') as handle:\n",
    "    all_l1_r5 =  pickle.load(handle)\n",
    "\n",
    "with open(os.path.join(f'data_{round_suffix}', f'{gg}_l2_data.pickle'), 'rb') as handle:\n",
    "    all_l2_r5 =  pickle.load(handle)\n",
    "\n",
    "with open(os.path.join(f'data_{round_suffix}', f'{gg}_sparse_data.pickle'), 'rb') as handle:\n",
    "    all_sp_r5 =  pickle.load(handle)\n",
    "\n",
    "round_suffix = 'r6'\n",
    "\n",
    "with open(os.path.join(f'data_{round_suffix}', f'{gg}_l1_data.pickle'), 'rb') as handle:\n",
    "    all_l1_r6 =  pickle.load(handle)\n",
    "\n",
    "with open(os.path.join(f'data_{round_suffix}', f'{gg}_l2_data.pickle'), 'rb') as handle:\n",
    "    all_l2_r6 =  pickle.load(handle)\n",
    "\n",
    "with open(os.path.join(f'data_{round_suffix}', f'{gg}_sparse_data.pickle'), 'rb') as handle:\n",
    "    all_sp_r6 =  pickle.load(handle)"
   ]
  },
  {
   "cell_type": "code",
   "execution_count": 4,
   "metadata": {},
   "outputs": [
    {
     "output_type": "stream",
     "name": "stdout",
     "text": [
      "(1656, 25)\n"
     ]
    }
   ],
   "source": [
    "d = lambda x: np.linalg.norm(x - 1, ord=1)\n",
    "dd = lambda x, y: np.linalg.norm(x - y, ord=1)\n",
    "s = lambda x: len(np.where(x == 0)[0])/len(x)\n",
    "\n",
    "model_labels_r5 = all_l1_r5[7]\n",
    "\n",
    "hconfs_l1_r5 = np.array([[all_l1_r5[1][idx][0][1], all_l1_r5[1][idx][1][1], all_l1_r5[1][idx][2][1]] for idx in range(len(model_labels_r5))])\n",
    "iconfs_l1_r5 = np.array([[all_l1_r5[4][idx][0][1], all_l1_r5[4][idx][1][1], all_l1_r5[4][idx][2][1]] for idx in range(len(model_labels_r5))])\n",
    "hgammas_l1_r5 = np.array([[all_l1_r5[2][idx][0], all_l1_r5[2][idx][1]] for idx in range(len(model_labels_r5))])\n",
    "igammas_l1_r5 = np.array([[all_l1_r5[5][idx][0], all_l1_r5[5][idx][1]] for idx in range(len(model_labels_r5))])\n",
    "hgates_l1_r5 = np.array([[d(all_l1_r5[0][idx][0]), d(all_l1_r5[0][idx][1]), dd(all_l1_r5[0][idx][0], all_l1_r5[0][idx][1])] for idx in range(len(model_labels_r5))])\n",
    "igates_l1_r5 = np.array([[d(all_l1_r5[3][idx][0]), d(all_l1_r5[3][idx][1]), dd(all_l1_r5[3][idx][0], all_l1_r5[3][idx][1])] for idx in range(len(model_labels_r5))])\n",
    "\n",
    "# l1_r5 = np.hstack((hconfs_l1_r5, iconfs_l1_r5, hgammas_l1_r5, igammas_l1_r5, hgates_l1_r5, igates_l1_r5))\n",
    "l1_r5 = np.hstack((iconfs_l1_r5, igammas_l1_r5, igates_l1_r5))\n",
    "\n",
    "hconfs_l2_r5 = np.array([[all_l2_r5[1][idx][0][1], all_l2_r5[1][idx][1][1], all_l2_r5[1][idx][2][1]] for idx in range(len(model_labels_r5))])\n",
    "iconfs_l2_r5 = np.array([[all_l2_r5[4][idx][0][1], all_l2_r5[4][idx][1][1], all_l2_r5[4][idx][2][1]] for idx in range(len(model_labels_r5))])\n",
    "hgammas_l2_r5 = np.array([[all_l2_r5[2][idx][0], all_l2_r5[2][idx][1]] for idx in range(len(model_labels_r5))])\n",
    "igammas_l2_r5 = np.array([[all_l2_r5[5][idx][0], all_l2_r5[5][idx][1]] for idx in range(len(model_labels_r5))])\n",
    "hgates_l2_r5 = np.array([[d(all_l2_r5[0][idx][0]), d(all_l2_r5[0][idx][1]), dd(all_l2_r5[0][idx][0], all_l2_r5[0][idx][1])] for idx in range(len(model_labels_r5))])\n",
    "igates_l2_r5 = np.array([[d(all_l2_r5[3][idx][0]), d(all_l2_r5[3][idx][1]), dd(all_l2_r5[3][idx][0], all_l2_r5[3][idx][1])] for idx in range(len(model_labels_r5))])\n",
    "\n",
    "# l2_r5 = np.hstack((hconfs_l2_r5, iconfs_l2_r5, hgammas_l2_r5, igammas_l2_r5, hgates_l2_r5, igates_l2_r5))\n",
    "l2_r5 = np.hstack((iconfs_l2_r5, igammas_l2_r5, igates_l2_r5))\n",
    "\n",
    "\n",
    "hconfs_sp_r5 = np.array([[all_sp_r5[1][idx][0][1], all_sp_r5[1][idx][1][1], all_sp_r5[1][idx][2][1]] for idx in range(len(model_labels_r5))])\n",
    "iconfs_sp_r5 = np.array([[all_sp_r5[4][idx][0][1], all_sp_r5[4][idx][1][1], all_sp_r5[4][idx][2][1]] for idx in range(len(model_labels_r5))])\n",
    "hgammas_sp_r5 = np.array([[all_sp_r5[2][idx][0], all_sp_r5[2][idx][1], all_sp_r5[2][idx][2]] for idx in range(len(model_labels_r5))])\n",
    "igammas_sp_r5 = np.array([[all_sp_r5[5][idx][0], all_sp_r5[5][idx][1], all_sp_r5[5][idx][2]] for idx in range(len(model_labels_r5))])\n",
    "hgates_sp_r5 = np.array([[s(all_sp_r5[0][idx][0]), s(all_sp_r5[0][idx][1]), s(all_sp_r5[0][idx][2])] for idx in range(len(model_labels_r5))])\n",
    "igates_sp_r5 = np.array([[s(all_sp_r5[3][idx][0]), s(all_sp_r5[3][idx][1]), s(all_sp_r5[3][idx][2])] for idx in range(len(model_labels_r5))])\n",
    "\n",
    "# sp_r5 = np.hstack((hconfs_sp_r5, iconfs_sp_r5, hgammas_sp_r5, igammas_sp_r5, hgates_sp_r5, igates_sp_r5))\n",
    "sp_r5 = np.hstack((iconfs_sp_r5, igammas_sp_r5, igates_sp_r5))\n",
    "\n",
    "data_r5 = np.hstack((l1_r5, l2_r5, sp_r5))\n",
    "print(data_r5.shape)"
   ]
  },
  {
   "cell_type": "code",
   "execution_count": 5,
   "metadata": {},
   "outputs": [
    {
     "output_type": "stream",
     "name": "stdout",
     "text": [
      "(48, 25)\n"
     ]
    }
   ],
   "source": [
    "model_labels_r6 = all_l1_r6[7]\n",
    "\n",
    "hconfs_l1_r6 = np.array([[all_l1_r6[1][idx][0][1], all_l1_r6[1][idx][1][1], all_l1_r6[1][idx][2][1]] for idx in range(len(model_labels_r6))])\n",
    "iconfs_l1_r6 = np.array([[all_l1_r6[4][idx][0][1], all_l1_r6[4][idx][1][1], all_l1_r6[4][idx][2][1]] for idx in range(len(model_labels_r6))])\n",
    "hgammas_l1_r6 = np.array([[all_l1_r6[2][idx][0], all_l1_r6[2][idx][1]] for idx in range(len(model_labels_r6))])\n",
    "igammas_l1_r6 = np.array([[all_l1_r6[5][idx][0], all_l1_r6[5][idx][1]] for idx in range(len(model_labels_r6))])\n",
    "hgates_l1_r6 = np.array([[d(all_l1_r6[0][idx][0]), d(all_l1_r6[0][idx][1]), dd(all_l1_r6[0][idx][0], all_l1_r6[0][idx][1])] for idx in range(len(model_labels_r6))])\n",
    "igates_l1_r6 = np.array([[d(all_l1_r6[3][idx][0]), d(all_l1_r6[3][idx][1]), dd(all_l1_r6[3][idx][0], all_l1_r6[3][idx][1])] for idx in range(len(model_labels_r6))])\n",
    "\n",
    "#l1_r6 = np.hstack((hconfs_l1_r6, iconfs_l1_r6, hgammas_l1_r6, igammas_l1_r6, hgates_l1_r6, igates_l1_r6))\n",
    "l1_r6 = np.hstack((iconfs_l1_r6, igammas_l1_r6, igates_l1_r6))\n",
    "\n",
    "\n",
    "hconfs_l2_r6 = np.array([[all_l2_r6[1][idx][0][1], all_l2_r6[1][idx][1][1], all_l2_r6[1][idx][2][1]] for idx in range(len(model_labels_r6))])\n",
    "iconfs_l2_r6 = np.array([[all_l2_r6[4][idx][0][1], all_l2_r6[4][idx][1][1], all_l2_r6[4][idx][2][1]] for idx in range(len(model_labels_r6))])\n",
    "hgammas_l2_r6 = np.array([[all_l2_r6[2][idx][0], all_l2_r6[2][idx][1]] for idx in range(len(model_labels_r6))])\n",
    "igammas_l2_r6 = np.array([[all_l2_r6[5][idx][0], all_l2_r6[5][idx][1]] for idx in range(len(model_labels_r6))])\n",
    "hgates_l2_r6 = np.array([[d(all_l2_r6[0][idx][0]), d(all_l2_r6[0][idx][1]), dd(all_l2_r6[0][idx][0], all_l2_r6[0][idx][1])] for idx in range(len(model_labels_r6))])\n",
    "igates_l2_r6 = np.array([[d(all_l2_r6[3][idx][0]), d(all_l2_r6[3][idx][1]), dd(all_l2_r6[3][idx][0], all_l2_r6[3][idx][1])] for idx in range(len(model_labels_r6))])\n",
    "\n",
    "# l2_r6 = np.hstack((hconfs_l2_r6, iconfs_l2_r6, hgammas_l2_r6, igammas_l2_r6, hgates_l2_r6, igates_l2_r6))\n",
    "l2_r6 = np.hstack((iconfs_l2_r6, igammas_l2_r6, igates_l2_r6))\n",
    "\n",
    "\n",
    "hconfs_sp_r6 = np.array([[all_sp_r6[1][idx][0][1], all_sp_r6[1][idx][1][1], all_sp_r6[1][idx][2][1]] for idx in range(len(model_labels_r6))])\n",
    "iconfs_sp_r6 = np.array([[all_sp_r6[4][idx][0][1], all_sp_r6[4][idx][1][1], all_sp_r6[4][idx][2][1]] for idx in range(len(model_labels_r6))])\n",
    "hgammas_sp_r6 = np.array([[all_sp_r6[2][idx][0], all_sp_r6[2][idx][1], all_sp_r6[2][idx][2]] for idx in range(len(model_labels_r6))])\n",
    "igammas_sp_r6 = np.array([[all_sp_r6[5][idx][0], all_sp_r6[5][idx][1], all_sp_r6[5][idx][2]] for idx in range(len(model_labels_r6))])\n",
    "hgates_sp_r6 = np.array([[s(all_sp_r6[0][idx][0]), s(all_sp_r6[0][idx][1]), s(all_sp_r6[0][idx][2])] for idx in range(len(model_labels_r6))])\n",
    "igates_sp_r6 = np.array([[s(all_sp_r6[3][idx][0]), s(all_sp_r6[3][idx][1]), s(all_sp_r6[3][idx][2])] for idx in range(len(model_labels_r6))])\n",
    "\n",
    "# sp_r6 = np.hstack((hconfs_sp_r6, iconfs_sp_r6, hgammas_sp_r6, igammas_sp_r6, hgates_sp_r6, igates_sp_r6))\n",
    "sp_r6 = np.hstack((iconfs_sp_r6, igammas_sp_r6, igates_sp_r6))\n",
    "\n",
    "data_r6 = np.hstack((l1_r6, l2_r6, sp_r6))\n",
    "print(data_r6.shape)"
   ]
  },
  {
   "cell_type": "code",
   "execution_count": 9,
   "metadata": {},
   "outputs": [
    {
     "output_type": "stream",
     "name": "stdout",
     "text": [
      "Acc: 0.65 - AUC: 0.74\n"
     ]
    }
   ],
   "source": [
    "X_train, X_test, y_train, y_test = train_test_split(data_r5, model_labels_r5, stratify=model_labels_r5, random_state=0)\n",
    "\n",
    "# scoring = make_scorer(accuracy_score)\n",
    "# parameters = {'learning_rate': [0.15,0.1,0.05,0.01,0.005,0.001],  'n_estimators': [100,250,500,750,1000,1250,1500], 'max_depth': [3,5,7]}\n",
    "# clf = GridSearchCV(GradientBoostingClassifier(), parameters, scoring=scoring, refit=True, cv=2, n_jobs=-1).fit(X_train, y_train)\n",
    "# print(f'Acc: {clf.score(X_test, y_test):.2f} - AUC: {roc_auc_score(y_test, clf.predict_proba(X_test)[:, 1]):.2f}')\n",
    "\n",
    "clf = GradientBoostingClassifier(learning_rate=0.005, max_depth=3, n_estimators=1000).fit(X_train, y_train)\n",
    "print(f'Acc: {clf.score(X_test, y_test):.2f} - AUC: {roc_auc_score(y_test, clf.predict_proba(X_test)[:, 1]):.2f}')\n",
    "\n",
    "# clf = LogisticRegression(penalty='l2', C=10).fit(data, model_labels)\n",
    "\n",
    "# save the model\n",
    "with open('clf.pickle', 'wb') as handle:\n",
    "    pickle.dump(clf, handle, protocol=pickle.HIGHEST_PROTOCOL)\n",
    "\n",
    "# load the model\n",
    "# with open('clf.pickle', 'rb') as handle:\n",
    "#     clf = pickle.load(handle)"
   ]
  },
  {
   "cell_type": "code",
   "execution_count": 10,
   "metadata": {},
   "outputs": [
    {
     "output_type": "stream",
     "name": "stdout",
     "text": [
      "Acc: 0.67 - AUC: 0.75\n"
     ]
    }
   ],
   "source": [
    "print(f'Acc: {clf.score(data_r6, model_labels_r6):.2f} - AUC: {roc_auc_score(model_labels_r6, clf.predict_proba(data_r6)[:, 1]):.2f}')"
   ]
  },
  {
   "cell_type": "code",
   "execution_count": 11,
   "metadata": {},
   "outputs": [
    {
     "output_type": "stream",
     "name": "stdout",
     "text": [
      "Idx: 0 - Poisoned: False - Embedding: GPT-2-gpt2.pt - Arch: LstmLinear Pred Correct: False\nIdx: 1 - Poisoned: False - Embedding: GPT-2-gpt2.pt - Arch: GruLinear Pred Correct: False\nIdx: 2 - Poisoned: False - Embedding: GPT-2-gpt2.pt - Arch: FCLinear Pred Correct: False\nIdx: 3 - Poisoned: False - Embedding: GPT-2-gpt2.pt - Arch: LstmLinear Pred Correct: True\nIdx: 4 - Poisoned: False - Embedding: GPT-2-gpt2.pt - Arch: GruLinear Pred Correct: True\nIdx: 5 - Poisoned: False - Embedding: GPT-2-gpt2.pt - Arch: FCLinear Pred Correct: False\nIdx: 6 - Poisoned: False - Embedding: DistilBERT-distilbert-base-uncased.pt - Arch: LstmLinear Pred Correct: True\nIdx: 7 - Poisoned: False - Embedding: DistilBERT-distilbert-base-uncased.pt - Arch: GruLinear Pred Correct: False\nIdx: 8 - Poisoned: False - Embedding: DistilBERT-distilbert-base-uncased.pt - Arch: FCLinear Pred Correct: True\nIdx: 9 - Poisoned: False - Embedding: DistilBERT-distilbert-base-uncased.pt - Arch: LstmLinear Pred Correct: False\nIdx: 10 - Poisoned: False - Embedding: DistilBERT-distilbert-base-uncased.pt - Arch: GruLinear Pred Correct: True\nIdx: 11 - Poisoned: False - Embedding: DistilBERT-distilbert-base-uncased.pt - Arch: FCLinear Pred Correct: True\nIdx: 12 - Poisoned: True - Embedding: GPT-2-gpt2.pt - Arch: LstmLinear Pred Correct: False\nIdx: 13 - Poisoned: True - Embedding: GPT-2-gpt2.pt - Arch: GruLinear Pred Correct: True\nIdx: 14 - Poisoned: True - Embedding: GPT-2-gpt2.pt - Arch: FCLinear Pred Correct: False\nIdx: 15 - Poisoned: True - Embedding: GPT-2-gpt2.pt - Arch: LstmLinear Pred Correct: True\nIdx: 16 - Poisoned: True - Embedding: GPT-2-gpt2.pt - Arch: GruLinear Pred Correct: True\nIdx: 17 - Poisoned: True - Embedding: GPT-2-gpt2.pt - Arch: FCLinear Pred Correct: False\nIdx: 18 - Poisoned: True - Embedding: DistilBERT-distilbert-base-uncased.pt - Arch: LstmLinear Pred Correct: True\nIdx: 19 - Poisoned: True - Embedding: DistilBERT-distilbert-base-uncased.pt - Arch: GruLinear Pred Correct: True\nIdx: 20 - Poisoned: True - Embedding: DistilBERT-distilbert-base-uncased.pt - Arch: FCLinear Pred Correct: False\nIdx: 21 - Poisoned: True - Embedding: DistilBERT-distilbert-base-uncased.pt - Arch: LstmLinear Pred Correct: True\nIdx: 22 - Poisoned: True - Embedding: DistilBERT-distilbert-base-uncased.pt - Arch: GruLinear Pred Correct: True\nIdx: 23 - Poisoned: True - Embedding: DistilBERT-distilbert-base-uncased.pt - Arch: FCLinear Pred Correct: False\nIdx: 24 - Poisoned: False - Embedding: GPT-2-gpt2.pt - Arch: LstmLinear Pred Correct: True\nIdx: 25 - Poisoned: False - Embedding: GPT-2-gpt2.pt - Arch: GruLinear Pred Correct: True\nIdx: 26 - Poisoned: False - Embedding: GPT-2-gpt2.pt - Arch: FCLinear Pred Correct: True\nIdx: 27 - Poisoned: False - Embedding: GPT-2-gpt2.pt - Arch: LstmLinear Pred Correct: True\nIdx: 28 - Poisoned: False - Embedding: GPT-2-gpt2.pt - Arch: GruLinear Pred Correct: True\nIdx: 29 - Poisoned: False - Embedding: GPT-2-gpt2.pt - Arch: FCLinear Pred Correct: False\nIdx: 30 - Poisoned: False - Embedding: DistilBERT-distilbert-base-uncased.pt - Arch: LstmLinear Pred Correct: False\nIdx: 31 - Poisoned: False - Embedding: DistilBERT-distilbert-base-uncased.pt - Arch: GruLinear Pred Correct: True\nIdx: 32 - Poisoned: False - Embedding: DistilBERT-distilbert-base-uncased.pt - Arch: FCLinear Pred Correct: False\nIdx: 33 - Poisoned: False - Embedding: DistilBERT-distilbert-base-uncased.pt - Arch: LstmLinear Pred Correct: False\nIdx: 34 - Poisoned: False - Embedding: DistilBERT-distilbert-base-uncased.pt - Arch: GruLinear Pred Correct: True\nIdx: 35 - Poisoned: False - Embedding: DistilBERT-distilbert-base-uncased.pt - Arch: FCLinear Pred Correct: True\nIdx: 36 - Poisoned: True - Embedding: GPT-2-gpt2.pt - Arch: LstmLinear Pred Correct: False\nIdx: 37 - Poisoned: True - Embedding: GPT-2-gpt2.pt - Arch: GruLinear Pred Correct: True\nIdx: 38 - Poisoned: True - Embedding: GPT-2-gpt2.pt - Arch: FCLinear Pred Correct: True\nIdx: 39 - Poisoned: True - Embedding: GPT-2-gpt2.pt - Arch: LstmLinear Pred Correct: True\nIdx: 40 - Poisoned: True - Embedding: GPT-2-gpt2.pt - Arch: GruLinear Pred Correct: True\nIdx: 41 - Poisoned: True - Embedding: GPT-2-gpt2.pt - Arch: FCLinear Pred Correct: True\nIdx: 42 - Poisoned: True - Embedding: DistilBERT-distilbert-base-uncased.pt - Arch: LstmLinear Pred Correct: True\nIdx: 43 - Poisoned: True - Embedding: DistilBERT-distilbert-base-uncased.pt - Arch: GruLinear Pred Correct: True\nIdx: 44 - Poisoned: True - Embedding: DistilBERT-distilbert-base-uncased.pt - Arch: FCLinear Pred Correct: True\nIdx: 45 - Poisoned: True - Embedding: DistilBERT-distilbert-base-uncased.pt - Arch: LstmLinear Pred Correct: True\nIdx: 46 - Poisoned: True - Embedding: DistilBERT-distilbert-base-uncased.pt - Arch: GruLinear Pred Correct: True\nIdx: 47 - Poisoned: True - Embedding: DistilBERT-distilbert-base-uncased.pt - Arch: FCLinear Pred Correct: True\n"
     ]
    }
   ],
   "source": [
    "preds = clf.predict(data_r6) == model_labels_r6\n",
    "\n",
    "for idx, _ in enumerate(df['model_name']):\n",
    "    params = ut.read_model(df, idx, main_path, models_path)\n",
    "    print(f'Idx: {idx} - Poisoned: {params[2]} - Embedding: {os.path.basename(params[6])} - Arch: {params[1]} Pred Correct: {preds[idx]}')\n"
   ]
  },
  {
   "cell_type": "code",
   "execution_count": 12,
   "metadata": {},
   "outputs": [
    {
     "output_type": "execute_result",
     "data": {
      "text/plain": [
       "array([[0.4822843 , 0.5177157 ],\n",
       "       [0.47775315, 0.52224685],\n",
       "       [0.34523882, 0.65476118],\n",
       "       [0.53922682, 0.46077318],\n",
       "       [0.85626312, 0.14373688],\n",
       "       [0.47316491, 0.52683509],\n",
       "       [0.69386839, 0.30613161],\n",
       "       [0.35771163, 0.64228837],\n",
       "       [0.65394538, 0.34605462],\n",
       "       [0.34195977, 0.65804023],\n",
       "       [0.79910973, 0.20089027],\n",
       "       [0.53117374, 0.46882626],\n",
       "       [0.59982414, 0.40017586],\n",
       "       [0.27931746, 0.72068254],\n",
       "       [0.71099037, 0.28900963],\n",
       "       [0.27444432, 0.72555568],\n",
       "       [0.36757623, 0.63242377],\n",
       "       [0.58488436, 0.41511564],\n",
       "       [0.41184967, 0.58815033],\n",
       "       [0.32395575, 0.67604425],\n",
       "       [0.74898668, 0.25101332],\n",
       "       [0.30931875, 0.69068125],\n",
       "       [0.34949972, 0.65050028],\n",
       "       [0.50056619, 0.49943381],\n",
       "       [0.72874977, 0.27125023],\n",
       "       [0.87205085, 0.12794915],\n",
       "       [0.64650949, 0.35349051],\n",
       "       [0.72610187, 0.27389813],\n",
       "       [0.83036352, 0.16963648],\n",
       "       [0.46993125, 0.53006875],\n",
       "       [0.31377683, 0.68622317],\n",
       "       [0.52894038, 0.47105962],\n",
       "       [0.3362305 , 0.6637695 ],\n",
       "       [0.41790417, 0.58209583],\n",
       "       [0.64939545, 0.35060455],\n",
       "       [0.54283186, 0.45716814],\n",
       "       [0.82249038, 0.17750962],\n",
       "       [0.31810559, 0.68189441],\n",
       "       [0.31834156, 0.68165844],\n",
       "       [0.49902789, 0.50097211],\n",
       "       [0.38383706, 0.61616294],\n",
       "       [0.4712965 , 0.5287035 ],\n",
       "       [0.20447887, 0.79552113],\n",
       "       [0.27045413, 0.72954587],\n",
       "       [0.28413959, 0.71586041],\n",
       "       [0.33681195, 0.66318805],\n",
       "       [0.26277182, 0.73722818],\n",
       "       [0.44886534, 0.55113466]])"
      ]
     },
     "metadata": {},
     "execution_count": 12
    }
   ],
   "source": [
    "clf.predict_proba(data_r6)"
   ]
  }
 ],
 "metadata": {
  "language_info": {
   "codemirror_mode": {
    "name": "ipython",
    "version": 3
   },
   "file_extension": ".py",
   "mimetype": "text/x-python",
   "name": "python",
   "nbconvert_exporter": "python",
   "pygments_lexer": "ipython3",
   "version": "3.7.5-final"
  },
  "orig_nbformat": 2,
  "kernelspec": {
   "name": "python37564bitpytorchcondad9770c3b7f1448618a8c506bdbfa1806",
   "display_name": "Python 3.7.5 64-bit ('pytorch': conda)",
   "language": "python"
  }
 },
 "nbformat": 4,
 "nbformat_minor": 2
}