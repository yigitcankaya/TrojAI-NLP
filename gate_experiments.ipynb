{
 "cells": [
  {
   "cell_type": "code",
   "execution_count": 1,
   "metadata": {},
   "outputs": [],
   "source": [
    "import pandas\n",
    "import os\n",
    "import numpy as np\n",
    "import torch\n",
    "import gates_models as gm\n",
    "import pickle\n",
    "\n",
    "from sklearn.linear_model import LogisticRegression\n",
    "from sklearn.calibration import CalibratedClassifierCV\n",
    "from sklearn.model_selection import GridSearchCV\n",
    "from sklearn.metrics import accuracy_score\n",
    "from sklearn.metrics import make_scorer\n",
    "from sklearn.metrics import roc_auc_score\n",
    "from sklearn.ensemble import GradientBoostingClassifier\n",
    "from sklearn.model_selection import train_test_split"
   ]
  },
  {
   "cell_type": "code",
   "execution_count": 2,
   "metadata": {},
   "outputs": [],
   "source": [
    "path = 'models'\n",
    "main_path = os.path.join(path, 'round5-train-dataset')\n",
    "models_path = os.path.join(main_path, 'models')\n",
    "metadata_file = 'METADATA.csv'    \n",
    "device = torch.device('cuda' if torch.cuda.is_available() else 'cpu')\n",
    "df = pandas.read_csv(os.path.join(main_path, metadata_file))\n",
    "torch.backends.cudnn.enabled=False\n",
    "use_amp = True if torch.cuda.is_available() else False # attempt to use mixed precision to accelerate embedding conversion process"
   ]
  },
  {
   "cell_type": "code",
   "execution_count": null,
   "metadata": {
    "tags": [
     "outputPrepend"
    ]
   },
   "outputs": [],
   "source": [
    "cdrp_hgates_params = {'gamma':0.0025, 'iter':50, 'lr':0.1, 'eps':1e-3}\n",
    "cdrp_igates_params = {'gamma':0.025, 'iter':50, 'lr':0.1, 'eps':1e-3}\n",
    "data = gm.apply_cdrp_on_dataset(df, main_path, models_path, cdrp_hgates_params, cdrp_igates_params, use_amp, device)\n",
    "\n",
    "with open('gates_data_weakest.pickle', 'wb') as handle:\n",
    "    pickle.dump(data, handle, protocol=pickle.HIGHEST_PROTOCOL)"
   ]
  },
  {
   "cell_type": "code",
   "execution_count": null,
   "metadata": {},
   "outputs": [],
   "source": [
    "cdrp_hgates_params = {'gamma':0.005, 'iter':50, 'lr':0.1, 'eps':1e-3}\n",
    "cdrp_igates_params = {'gamma':0.05, 'iter':50, 'lr':0.1, 'eps':1e-3}\n",
    "data = gm.apply_cdrp_on_dataset(df, main_path, models_path, cdrp_hgates_params, cdrp_igates_params, use_amp, device)\n",
    "\n",
    "with open('gates_data_weak.pickle', 'wb') as handle:\n",
    "    pickle.dump(data, handle, protocol=pickle.HIGHEST_PROTOCOL)"
   ]
  },
  {
   "cell_type": "code",
   "execution_count": null,
   "metadata": {
    "tags": [
     "outputPrepend"
    ]
   },
   "outputs": [],
   "source": [
    "cdrp_hgates_params = {'gamma':0.0075, 'iter':50, 'lr':0.1, 'eps':1e-3}\n",
    "cdrp_igates_params = {'gamma':0.075, 'iter':50, 'lr':0.1, 'eps':1e-3}\n",
    "data = gm.apply_cdrp_on_dataset(df, main_path, models_path, cdrp_hgates_params, cdrp_igates_params, use_amp, device)\n",
    "\n",
    "with open('gates_data_medium.pickle', 'wb') as handle:\n",
    "    pickle.dump(data, handle, protocol=pickle.HIGHEST_PROTOCOL)\n"
   ]
  },
  {
   "cell_type": "code",
   "execution_count": null,
   "metadata": {},
   "outputs": [],
   "source": [
    "cdrp_hgates_params = {'gamma':0.01, 'iter':50, 'lr':0.1, 'eps':1e-3}\n",
    "cdrp_igates_params = {'gamma':0.1, 'iter':50, 'lr':0.1, 'eps':1e-3}\n",
    "data = gm.apply_cdrp_on_dataset(df, main_path, models_path, cdrp_hgates_params, cdrp_igates_params, use_amp, device)\n",
    "\n",
    "with open('gates_data_strong.pickle', 'wb') as handle:\n",
    "    pickle.dump(data, handle, protocol=pickle.HIGHEST_PROTOCOL)"
   ]
  },
  {
   "cell_type": "code",
   "execution_count": null,
   "metadata": {
    "tags": [
     "outputPrepend"
    ]
   },
   "outputs": [],
   "source": [
    "cdrp_hgates_params = {'gamma':0.0125, 'iter':50, 'lr':0.1, 'eps':1e-3}\n",
    "cdrp_igates_params = {'gamma':0.125, 'iter':50, 'lr':0.1, 'eps':1e-3}\n",
    "data = gm.apply_cdrp_on_dataset(df, main_path, models_path, cdrp_hgates_params, cdrp_igates_params, use_amp, device)\n",
    "\n",
    "with open('gates_data_strongest.pickle', 'wb') as handle:\n",
    "    pickle.dump(data, handle, protocol=pickle.HIGHEST_PROTOCOL)"
   ]
  },
  {
   "cell_type": "code",
   "execution_count": 53,
   "metadata": {},
   "outputs": [],
   "source": [
    "num_bins = 10\n",
    "conversion = 'histogram'\n",
    "\n",
    "with open(os.path.join('gates_data_weakest.pickle'), 'rb') as handle:\n",
    "    data_weakest =  gm.convert_data(pickle.load(handle), num_bins=num_bins, conversion=conversion)\n",
    "\n",
    "with open(os.path.join('gates_data_weak.pickle'), 'rb') as handle:\n",
    "    data_weak = gm.convert_data(pickle.load(handle), num_bins=num_bins, conversion=conversion)\n",
    "\n",
    "with open(os.path.join('gates_data_medium.pickle'), 'rb') as handle:\n",
    "    data_medium = gm.convert_data(pickle.load(handle), num_bins=num_bins, conversion=conversion)\n",
    "\n",
    "with open(os.path.join('gates_data_strong.pickle'), 'rb') as handle:\n",
    "    data_strong = gm.convert_data(pickle.load(handle), num_bins=num_bins, conversion=conversion)\n",
    "\n",
    "with open(os.path.join('gates_data_strongest.pickle'), 'rb') as handle:\n",
    "    data_strongest = gm.convert_data(pickle.load(handle), num_bins=num_bins, conversion=conversion)\n",
    "\n",
    "combined_data = np.hstack((data_weakest['data'], data_weak['data'], data_medium['data'], data_strong['data'], data_strongest['data']))\n",
    "model_labels = data_weakest['labels']\n",
    "\n",
    "X_train, X_test, y_train, y_test = train_test_split(combined_data, model_labels, stratify=model_labels, random_state=1)"
   ]
  },
  {
   "cell_type": "code",
   "execution_count": 54,
   "metadata": {
    "tags": []
   },
   "outputs": [
    {
     "output_type": "stream",
     "name": "stdout",
     "text": "Acc: 0.78 - AUC: 0.85\n"
    }
   ],
   "source": [
    "\n",
    "scoring = make_scorer(accuracy_score)\n",
    "\n",
    "parameters = {'learning_rate': [0.15,0.1,0.05,0.01,0.005,0.001],  'n_estimators': [100,250,500,750,1000,1250,1500], 'max_depth': [3,5,7]}\n",
    "\n",
    "clf = GridSearchCV(GradientBoostingClassifier(), parameters, scoring=scoring, refit=True, cv=2, n_jobs=-1).fit(X_train, y_train)\n",
    "print(f'Acc: {clf.score(X_test, y_test):.2f} - AUC: {roc_auc_score(y_test, clf.predict_proba(X_test)[:, 1]):.2f}')\n",
    "\n",
    "with open('clf_gates.pickle', 'wb') as handle:\n",
    "    pickle.dump(clf, handle, protocol=pickle.HIGHEST_PROTOCOL)"
   ]
  },
  {
   "cell_type": "code",
   "execution_count": 64,
   "metadata": {
    "tags": []
   },
   "outputs": [
    {
     "output_type": "stream",
     "name": "stdout",
     "text": "Acc: 0.77 - AUC: 0.85\n"
    }
   ],
   "source": [
    "scoring = make_scorer(accuracy_score)\n",
    "\n",
    "calib_clf = CalibratedClassifierCV(base_estimator=clf, cv='prefit').fit(X_test, y_test)\n",
    "\n",
    "print(f'Acc: {calib_clf.score(X_test, y_test):.2f} - AUC: {roc_auc_score(y_test, calib_clf.predict_proba(X_test)[:, 1]):.2f}')\n",
    "\n",
    "with open('calib_clf.pickle', 'wb') as handle:\n",
    "    pickle.dump(calib_clf, handle, protocol=pickle.HIGHEST_PROTOCOL)"
   ]
  },
  {
   "cell_type": "code",
   "execution_count": 67,
   "metadata": {},
   "outputs": [
    {
     "output_type": "execute_result",
     "data": {
      "text/plain": "array([0.96454441, 0.99996667, 0.99999984, 1.        , 1.        ,\n       0.83161124, 0.73448807, 1.        , 0.99064883, 1.        ,\n       0.99702032, 1.        , 1.        , 0.99723031, 1.        ,\n       1.        , 0.99999983, 1.        , 1.        , 1.        ,\n       0.99986045, 1.        , 0.99946409, 0.6855799 , 0.99999916,\n       0.99999999, 0.99999686, 1.        , 0.99907028, 1.        ,\n       1.        , 0.99999605, 0.99668714, 0.99999992, 1.        ,\n       1.        , 1.        , 1.        , 0.99698519, 0.99187957,\n       1.        , 0.99996406, 1.        , 0.99919878, 0.9993244 ,\n       0.99999999, 1.        , 0.99998031, 0.999483  , 0.99999969,\n       0.99728983, 0.99974721, 0.99955613, 0.99999607, 1.        ,\n       1.        , 1.        , 0.99984486, 1.        , 1.        ,\n       0.99818406, 1.        , 1.        , 0.99999999, 1.        ,\n       1.        , 1.        , 0.99977541, 1.        , 0.9775857 ,\n       0.99998967, 0.99999983, 1.        , 1.        , 0.72539072,\n       1.        , 0.99999457, 1.        , 1.        , 0.99999992,\n       1.        , 0.99999164, 1.        , 0.98419585, 1.        ,\n       1.        , 1.        , 1.        , 1.        , 1.        ,\n       0.99999802, 1.        , 0.99999999, 0.98375009, 0.99999999,\n       1.        , 1.        , 1.        , 1.        , 0.9511038 ,\n       0.95503523, 1.        , 0.99999342, 0.99999184, 0.99996211,\n       0.86499173, 1.        , 0.9999576 , 1.        , 0.99980482,\n       0.99369821, 1.        , 1.        , 1.        , 0.9999541 ,\n       0.99540065, 1.        , 0.59479888, 0.99998734, 0.72372299,\n       1.        , 1.        , 0.99999982, 0.99561879, 0.99999996,\n       0.98311829, 1.        , 1.        , 1.        , 0.99999979,\n       1.        , 0.99999648, 0.99999996, 0.99999743, 0.99999999,\n       0.99999993, 0.9889744 , 1.        , 1.        , 1.        ,\n       0.9982148 , 1.        , 0.99999755, 0.99975276, 0.81018184,\n       1.        , 0.56933668, 0.5647366 , 1.        , 0.99995369,\n       1.        , 0.99998829, 0.69022743, 0.99999998, 1.        ,\n       0.99999999, 1.        , 1.        , 0.75649514, 1.        ,\n       1.        , 1.        , 0.99999998, 1.        , 0.99993464,\n       1.        , 1.        , 0.99999943, 0.99954768, 0.99990415,\n       0.99995315, 1.        , 0.88652151, 1.        , 1.        ,\n       0.99999999, 0.99999714, 0.99999999, 0.99396732, 1.        ,\n       1.        , 0.99996745, 0.99991881, 1.        , 0.99999991,\n       0.99998364, 1.        , 1.        , 1.        , 1.        ,\n       1.        , 0.99998433, 0.99997907, 0.9987275 , 0.99999999,\n       1.        , 1.        , 0.97875268, 1.        , 0.9982795 ,\n       0.99999931, 0.99999999, 0.99999991, 1.        , 1.        ,\n       0.96659786, 1.        , 1.        , 1.        , 0.99998782,\n       1.        , 0.999846  , 1.        , 0.99999111, 1.        ,\n       0.91085869, 1.        , 0.99999979, 0.99998635, 1.        ,\n       1.        , 1.        , 0.99999712, 0.99974001, 1.        ,\n       0.99552994, 1.        , 1.        , 1.        , 0.99999998,\n       1.        , 0.99999933, 0.99995716, 0.99999785, 0.99999999,\n       1.        , 1.        , 0.99999955, 1.        , 1.        ,\n       0.99947788, 1.        , 1.        , 1.        , 0.74846845,\n       1.        , 0.99999995, 0.99999999, 0.52698849, 1.        ,\n       0.99427811, 0.99999998, 0.99997633, 0.9999995 , 1.        ,\n       0.78535055, 1.        , 0.99999999, 0.99998965, 0.99991206,\n       1.        , 1.        , 1.        , 0.99999983, 0.99043371,\n       0.99796405, 0.76373128, 0.99991582, 1.        , 0.99874625,\n       0.99999995, 0.99999994, 1.        , 1.        , 1.        ,\n       0.99999989, 0.99999853, 0.99999999, 1.        , 1.        ,\n       0.97135485, 1.        , 1.        , 0.99999433, 0.99773162,\n       0.99999999, 0.99999975, 1.        , 0.99999942, 0.98040879,\n       1.        , 0.88511194, 0.73115143, 1.        , 1.        ,\n       0.99932503, 0.96654943, 1.        , 0.99954923, 0.99956278,\n       0.96474497, 0.9656842 , 1.        , 0.99997945, 1.        ,\n       0.99999844, 0.99999941, 1.        , 1.        , 1.        ,\n       1.        , 0.99999998, 1.        , 1.        , 1.        ,\n       1.        , 0.99999998, 0.59514481, 1.        , 1.        ,\n       0.99999959, 1.        , 1.        , 1.        , 0.99999999,\n       0.99999992, 1.        , 0.95086667, 1.        , 0.99997687,\n       1.        , 1.        , 0.99999884, 0.99999629, 0.99960512,\n       0.99999999, 1.        , 1.        , 0.99999999, 0.99971867,\n       0.99999668, 0.99999557, 1.        , 1.        , 1.        ,\n       1.        , 1.        , 0.99999821, 1.        , 0.99999954,\n       0.998569  , 0.63286421, 1.        , 1.        , 1.        ,\n       1.        , 1.        , 1.        , 1.        , 1.        ,\n       0.99999067, 1.        , 0.99999978, 1.        , 0.73454651,\n       0.9999914 , 0.98152415, 0.99990083, 0.99998947, 1.        ,\n       0.99999853, 0.99725811, 0.99999915, 1.        , 1.        ,\n       0.99999999, 0.91213835, 1.        , 1.        , 1.        ,\n       1.        , 1.        , 1.        , 1.        , 0.85965518,\n       0.99999986, 1.        , 0.99996801, 0.99999962, 0.99988463,\n       1.        , 1.        , 1.        , 1.        , 0.99993784,\n       0.9995209 , 1.        , 1.        , 0.99986938, 0.9999995 ,\n       1.        , 1.        , 1.        , 0.99103726, 1.        ,\n       1.        , 0.99999998, 1.        , 1.        , 0.93957031,\n       0.999747  , 0.94220319, 0.99999999, 0.99999998])"
     },
     "metadata": {},
     "execution_count": 67
    }
   ],
   "source": [
    " preds = clf.predict_proba(X_test)\n",
    " np.exp(x)/sum(np.exp(x))"
   ]
  },
  {
   "cell_type": "code",
   "execution_count": null,
   "metadata": {},
   "outputs": [],
   "source": []
  }
 ],
 "metadata": {
  "language_info": {
   "codemirror_mode": {
    "name": "ipython",
    "version": 3
   },
   "file_extension": ".py",
   "mimetype": "text/x-python",
   "name": "python",
   "nbconvert_exporter": "python",
   "pygments_lexer": "ipython3",
   "version": 3
  },
  "orig_nbformat": 2,
  "kernelspec": {
   "name": "python_defaultSpec_1615398482291",
   "display_name": "Python 3.7.5 64-bit ('pytorch': conda)"
  }
 },
 "nbformat": 4,
 "nbformat_minor": 2
}